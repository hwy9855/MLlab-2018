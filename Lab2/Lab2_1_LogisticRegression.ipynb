{
 "cells": [
  {
   "cell_type": "markdown",
   "metadata": {},
   "source": [
    "Logistic Regression and Support Vector Machine\n",
    "==="
   ]
  },
  {
   "cell_type": "code",
   "execution_count": 1,
   "metadata": {},
   "outputs": [],
   "source": [
    "from sklearn import model_selection\n",
    "from sklearn import datasets\n",
    "from matplotlib import pyplot as plt\n",
    "import numpy as np"
   ]
  },
  {
   "cell_type": "code",
   "execution_count": 2,
   "metadata": {},
   "outputs": [],
   "source": [
    "train_data = datasets.load_svmlight_file('./data/a9a', n_features=123)\n",
    "validate_data = datasets.load_svmlight_file('./data/a9a.t', n_features=123)\n",
    "X_train = train_data[0].toarray()\n",
    "y_train = train_data[1]\n",
    "X_validate = validate_data[0].toarray()\n",
    "y_validate = validate_data[1]\n",
    "X_train = np.insert(X_train, 0, values=np.ones(X_train.shape[0]), axis=1)\n",
    "X_validate = np.insert(X_validate, 0, values=np.ones(X_validate.shape[0]), axis=1)"
   ]
  },
  {
   "cell_type": "code",
   "execution_count": 3,
   "metadata": {},
   "outputs": [],
   "source": [
    "y_train[y_train == -1] = 0\n",
    "y_validate[y_validate == -1] = 0"
   ]
  },
  {
   "cell_type": "code",
   "execution_count": 4,
   "metadata": {},
   "outputs": [],
   "source": [
    "w = np.random.normal(np.zeros(124))"
   ]
  },
  {
   "cell_type": "code",
   "execution_count": 5,
   "metadata": {},
   "outputs": [],
   "source": [
    "def sigmoid(inX):  \n",
    "    return 1.0/(1+np.exp(-inX))  "
   ]
  },
  {
   "cell_type": "code",
   "execution_count": 6,
   "metadata": {},
   "outputs": [
    {
     "data": {
      "text/plain": [
       "array([0.09621679, 0.79034507, 0.06011984, ..., 0.69791197, 0.60922908,\n",
       "       0.30773257])"
      ]
     },
     "execution_count": 6,
     "metadata": {},
     "output_type": "execute_result"
    }
   ],
   "source": [
    "sigmoid(X_train.dot(w))"
   ]
  },
  {
   "cell_type": "markdown",
   "metadata": {},
   "source": [
    "## 1.1 Get loss function\n",
    "$J(w)=-\\frac{1}{n}\\sum\\limits^n_{i=1}\\left(y_i\\log(h_w(x_i))+(1-y_i)\\log(1-h_w(x_i))\\right)$"
   ]
  },
  {
   "cell_type": "code",
   "execution_count": 7,
   "metadata": {},
   "outputs": [],
   "source": [
    "def h(w, X):\n",
    "    return sigmoid(X.dot(w))"
   ]
  },
  {
   "cell_type": "code",
   "execution_count": 8,
   "metadata": {},
   "outputs": [],
   "source": [
    "def J(y_predict, y_validate):\n",
    "    res = 0\n",
    "    n = len(y_predict)\n",
    "    for i in range(n):\n",
    "        res += y_validate[i] * np.log(y_predict[i]) + (1 - y_validate[i]) * np.log(1 - y_predict[i])\n",
    "    res /= n\n",
    "    return -res"
   ]
  },
  {
   "cell_type": "code",
   "execution_count": 9,
   "metadata": {},
   "outputs": [],
   "source": [
    "y = h(w, X_train)"
   ]
  },
  {
   "cell_type": "code",
   "execution_count": 10,
   "metadata": {},
   "outputs": [
    {
     "data": {
      "text/plain": [
       "1.7552352700681944"
      ]
     },
     "execution_count": 10,
     "metadata": {},
     "output_type": "execute_result"
    }
   ],
   "source": [
    "J(y, y_train)"
   ]
  },
  {
   "cell_type": "code",
   "execution_count": 11,
   "metadata": {},
   "outputs": [],
   "source": [
    "def MSGD(X, y, w, alpha, batch_size, iters):\n",
    "    n = len(y)\n",
    "    loss_train = []\n",
    "    loss_validate = []\n",
    "    acc = []\n",
    "    \n",
    "    for k in range(iters):\n",
    "        batch = []\n",
    "        for i in range(batch_size):\n",
    "            batch.append(int(np.random.randint(n)))\n",
    "\n",
    "        X_batch = X[batch]\n",
    "        y_batch = y[batch]\n",
    "        tmp_w = w.copy()\n",
    "        for i in range(batch_size):\n",
    "            tmp_w += (h(w, X_batch[i]) - y_batch[i]) * (X_batch[i]) / batch_size\n",
    "        w = w - alpha * tmp_w\n",
    "        y_pre_t = h(w, X_train)\n",
    "        y_pre_v = h(w, X_validate)\n",
    "        loss_train.append(J(y_pre_t, y_train))\n",
    "        loss_validate.append(J(y_pre_v, y_validate))\n",
    "        y_pre_v[y_pre_v >= 0.5] = 1\n",
    "        y_pre_v[y_pre_v < 0.5] = 0\n",
    "        acc.append(1 - np.logical_xor(y_pre_v, y_validate).sum() / y_validate.shape[0])\n",
    "        if k % 50 == 0:\n",
    "            print('iters:', k, 'acc:', acc[k])\n",
    "    return w, loss_train, loss_validate, acc"
   ]
  },
  {
   "cell_type": "code",
   "execution_count": 12,
   "metadata": {},
   "outputs": [
    {
     "name": "stdout",
     "output_type": "stream",
     "text": [
      "iters: 0 acc: 0.3426693692033659\n",
      "iters: 50 acc: 0.49775812296541977\n",
      "iters: 100 acc: 0.632270745040231\n",
      "iters: 150 acc: 0.7267981082243106\n",
      "iters: 200 acc: 0.7592899699035686\n",
      "iters: 250 acc: 0.7638351452613475\n",
      "iters: 300 acc: 0.7637737239727289\n",
      "iters: 350 acc: 0.7637737239727289\n",
      "iters: 400 acc: 0.7637737239727289\n",
      "iters: 450 acc: 0.7637737239727289\n"
     ]
    }
   ],
   "source": [
    "w, loss_train, loss_validate, acc = MSGD(X_train, y_train, w, 1e-2, 16, 500)"
   ]
  },
  {
   "cell_type": "code",
   "execution_count": 13,
   "metadata": {},
   "outputs": [
    {
     "data": {
      "image/png": "[encoded data removed]",
      "text/plain": [
       "<Figure size 432x288 with 1 Axes>"
      ]
     },
     "metadata": {
      "needs_background": "light"
     },
     "output_type": "display_data"
    }
   ],
   "source": [
    "plt.plot(loss_train, label = 'loss_train')\n",
    "plt.plot(loss_validate, label = 'loss_val', ls = '--')\n",
    "plt.legend(loc='upper right')\n",
    "plt.savefig('./tex/lab2/MSGD_lr.pdf')"
   ]
  },
  {
   "cell_type": "code",
   "execution_count": 15,
   "metadata": {},
   "outputs": [
    {
     "data": {
      "image/png": "[encoded data removed]",
      "text/plain": [
       "<Figure size 432x288 with 1 Axes>"
      ]
     },
     "metadata": {
      "needs_background": "light"
     },
     "output_type": "display_data"
    }
   ],
   "source": [
    "plt.plot(acc, label = 'acc')\n",
    "plt.legend(loc='center right')\n",
    "plt.savefig('./tex/lab2/acc_lr.pdf')"
   ]
  }
 ],
 "metadata": {
  "kernelspec": {
   "display_name": "Python 3",
   "language": "python",
   "name": "python3"
  },
  "language_info": {
   "codemirror_mode": {
    "name": "ipython",
    "version": 3
   },
   "file_extension": ".py",
   "mimetype": "text/x-python",
   "name": "python",
   "nbconvert_exporter": "python",
   "pygments_lexer": "ipython3",
   "version": "3.6.5"
  }
 },
 "nbformat": 4,
 "nbformat_minor": 2
}
