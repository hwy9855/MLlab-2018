{
 "cells": [
  {
   "cell_type": "code",
   "execution_count": 1,
   "metadata": {},
   "outputs": [],
   "source": [
    "from sklearn import model_selection\n",
    "from sklearn import datasets\n",
    "from matplotlib import pyplot as plt\n",
    "import numpy as np"
   ]
  },
  {
   "cell_type": "code",
   "execution_count": 2,
   "metadata": {},
   "outputs": [],
   "source": [
    "train_data = datasets.load_svmlight_file('./data/a9a', n_features=123)\n",
    "validate_data = datasets.load_svmlight_file('./data/a9a.t', n_features=123)\n",
    "X_train = train_data[0].toarray()\n",
    "y_train = train_data[1]\n",
    "X_validate = validate_data[0].toarray()\n",
    "y_validate = validate_data[1]"
   ]
  },
  {
   "cell_type": "code",
   "execution_count": 3,
   "metadata": {},
   "outputs": [],
   "source": [
    "def Loss(X, y, w, b, C):\n",
    "    return np.maximum(0 , 1 - y * (X.dot(w) + b)).sum() * C / X.shape[0]"
   ]
  },
  {
   "cell_type": "code",
   "execution_count": 4,
   "metadata": {},
   "outputs": [],
   "source": [
    "w = np.random.normal(np.zeros(X_train.shape[1]))\n",
    "# w = np.ones(X_train.shape[1])\n",
    "b = np.random.normal(0)"
   ]
  },
  {
   "cell_type": "code",
   "execution_count": 5,
   "metadata": {},
   "outputs": [
    {
     "data": {
      "text/plain": [
       "0.4708330450598563"
      ]
     },
     "execution_count": 5,
     "metadata": {},
     "output_type": "execute_result"
    }
   ],
   "source": [
    "Loss(X_train, y_train, w, b, 0.5)"
   ]
  },
  {
   "cell_type": "code",
   "execution_count": 6,
   "metadata": {},
   "outputs": [],
   "source": [
    "def g_w(y, x, w, b):\n",
    "    if 1 - y * (x.dot(w) + b) >= 0:\n",
    "        return - y * x\n",
    "    else:\n",
    "        return np.zeros_like(x)\n",
    "\n",
    "def g_b(y, x, w, b):\n",
    "    if 1 - y * (x.dot(w) + b) >= 0:\n",
    "        return - y\n",
    "    else:\n",
    "        return 0"
   ]
  },
  {
   "cell_type": "code",
   "execution_count": 7,
   "metadata": {},
   "outputs": [],
   "source": [
    "def SVC(X, y, w, b, alpha, C, batch_size, iters):\n",
    "    n = len(y)\n",
    "    loss_train = []\n",
    "    loss_validate = []\n",
    "    acc = []\n",
    "    \n",
    "    for k in range(iters):\n",
    "        batch = []\n",
    "        for i in range(batch_size):\n",
    "            batch.append(int(np.random.randint(n)))\n",
    "        X_batch = X[batch]\n",
    "        y_batch = y[batch]\n",
    "        tmp_w = w.copy()\n",
    "        tmp_b = b\n",
    "        for i in range(batch_size):\n",
    "            tmp_w += C / batch_size * g_w(y_batch[i], X_batch[i], w, b)\n",
    "            tmp_b += C / batch_size * g_b(y_batch[i], X_batch[i], w, b)\n",
    "        w = w - alpha * tmp_w\n",
    "        b = b - alpha * tmp_b\n",
    "        loss_train.append(Loss(X_train, y_train, w, b, C))\n",
    "        loss_validate.append(Loss(X_validate, y_validate, w, b, C))\n",
    "        y_pre = X_validate.dot(w) + b\n",
    "        y_pre[y_pre >= 0] = 1\n",
    "        y_pre[y_pre < 0] = -1\n",
    "        acc.append(np.count_nonzero(y_pre == y_validate) / y_validate.shape[0])\n",
    "        if k % 50 == 0:\n",
    "            print('iters:', k, 'acc:', acc[k])\n",
    "    return loss_train, loss_validate, acc"
   ]
  },
  {
   "cell_type": "code",
   "execution_count": 8,
   "metadata": {},
   "outputs": [
    {
     "name": "stdout",
     "output_type": "stream",
     "text": [
      "iters: 0 acc: 0.6682021988821325\n",
      "iters: 50 acc: 0.690682390516553\n",
      "iters: 100 acc: 0.7232970947730484\n",
      "iters: 150 acc: 0.7546833732571709\n",
      "iters: 200 acc: 0.7643879368589153\n",
      "iters: 250 acc: 0.7640808304158221\n",
      "iters: 300 acc: 0.7637737239727289\n",
      "iters: 350 acc: 0.7637737239727289\n",
      "iters: 400 acc: 0.7637737239727289\n",
      "iters: 450 acc: 0.7637737239727289\n",
      "iters: 500 acc: 0.7637737239727289\n",
      "iters: 550 acc: 0.7637737239727289\n",
      "iters: 600 acc: 0.7637737239727289\n",
      "iters: 650 acc: 0.7637737239727289\n",
      "iters: 700 acc: 0.7637737239727289\n",
      "iters: 750 acc: 0.7637737239727289\n",
      "iters: 800 acc: 0.7637737239727289\n",
      "iters: 850 acc: 0.7637737239727289\n",
      "iters: 900 acc: 0.7637737239727289\n",
      "iters: 950 acc: 0.7637737239727289\n"
     ]
    }
   ],
   "source": [
    "loss_train, loss_validate, acc = SVC(X_train, y_train, w, b, 1e-2, 0.5, 128, 1000)"
   ]
  },
  {
   "cell_type": "code",
   "execution_count": 9,
   "metadata": {},
   "outputs": [
    {
     "data": {
      "image/png": "[encoded data removed]",
      "text/plain": [
       "<Figure size 432x288 with 1 Axes>"
      ]
     },
     "metadata": {
      "needs_background": "light"
     },
     "output_type": "display_data"
    }
   ],
   "source": [
    "plt.plot(loss_train, label = 'loss_train')\n",
    "plt.plot(loss_validate, label = 'loss_val', ls = '--')\n",
    "plt.legend(loc='upper right')\n",
    "plt.savefig('./tex/lab2/MSGD_svm.pdf')"
   ]
  },
  {
   "cell_type": "code",
   "execution_count": 13,
   "metadata": {},
   "outputs": [
    {
     "data": {
      "image/png": "[encoded data removed]",
      "text/plain": [
       "<Figure size 432x288 with 1 Axes>"
      ]
     },
     "metadata": {
      "needs_background": "light"
     },
     "output_type": "display_data"
    }
   ],
   "source": [
    "plt.plot(acc, label = 'acc')\n",
    "plt.legend(loc='center right')\n",
    "plt.savefig('./tex/lab2/acc_svm.pdf')"
   ]
  }
 ],
 "metadata": {
  "kernelspec": {
   "display_name": "Python 3",
   "language": "python",
   "name": "python3"
  },
  "language_info": {
   "codemirror_mode": {
    "name": "ipython",
    "version": 3
   },
   "file_extension": ".py",
   "mimetype": "text/x-python",
   "name": "python",
   "nbconvert_exporter": "python",
   "pygments_lexer": "ipython3",
   "version": "3.6.5"
  }
 },
 "nbformat": 4,
 "nbformat_minor": 2
}
