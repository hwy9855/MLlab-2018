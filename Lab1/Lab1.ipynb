{
 "cells": [
  {
   "cell_type": "markdown",
   "metadata": {},
   "source": [
    "# Linear Regression and Stochastic Gradient Descent"
   ]
  },
  {
   "cell_type": "code",
   "execution_count": 1,
   "metadata": {},
   "outputs": [],
   "source": [
    "from sklearn import model_selection\n",
    "from sklearn import datasets\n",
    "from matplotlib import pyplot as plt\n",
    "import numpy as np"
   ]
  },
  {
   "cell_type": "code",
   "execution_count": 2,
   "metadata": {},
   "outputs": [],
   "source": [
    "data = datasets.load_svmlight_file('./data/housing_scale', n_features=13)"
   ]
  },
  {
   "cell_type": "code",
   "execution_count": 3,
   "metadata": {},
   "outputs": [],
   "source": [
    "X_train, X_validate, y_train, y_validate = model_selection.train_test_split(data[0], data[1], random_state = 2018)\n",
    "X_train = X_train.toarray()\n",
    "X_validate = X_validate.toarray()"
   ]
  },
  {
   "cell_type": "markdown",
   "metadata": {},
   "source": [
    "## 1. closed-form solution of Linear Regression "
   ]
  },
  {
   "cell_type": "markdown",
   "metadata": {},
   "source": [
    "### 1.1 Initialize linear model $y = w^T  x$"
   ]
  },
  {
   "cell_type": "code",
   "execution_count": 4,
   "metadata": {},
   "outputs": [],
   "source": [
    "w = np.random.normal(np.zeros(14))"
   ]
  },
  {
   "cell_type": "markdown",
   "metadata": {},
   "source": [
    "### 1.2 Select loss function\n",
    "Using L2 Loss:\n",
    "\n",
    "$loss  = \\sum\\limits_{i=1}^n(y_i - y_i^{pre})^2$"
   ]
  },
  {
   "cell_type": "code",
   "execution_count": 5,
   "metadata": {},
   "outputs": [],
   "source": [
    "def loss(y_predict, y_validate):\n",
    "    res = 0\n",
    "    n = len(y_validate)\n",
    "    for i in range(n):\n",
    "        res += np.power((y_validate[i] - y_predict[i]), 2)\n",
    "    res /= n\n",
    "    return res"
   ]
  },
  {
   "cell_type": "code",
   "execution_count": 6,
   "metadata": {},
   "outputs": [],
   "source": [
    "X_train = np.insert(X_train, 0, values=np.ones(X_train.shape[0]), axis=1)\n",
    "X_validate = np.insert(X_validate, 0, values=np.ones(X_validate.shape[0]), axis=1)"
   ]
  },
  {
   "cell_type": "code",
   "execution_count": 7,
   "metadata": {},
   "outputs": [],
   "source": [
    "y = X_train.dot(w)"
   ]
  },
  {
   "cell_type": "code",
   "execution_count": 8,
   "metadata": {},
   "outputs": [],
   "source": [
    "Loss = loss(y, y_train)"
   ]
  },
  {
   "cell_type": "markdown",
   "metadata": {},
   "source": [
    "### 1.3 Calculate closed-form solution"
   ]
  },
  {
   "cell_type": "markdown",
   "metadata": {},
   "source": [
    "$\\begin{split}\n",
    "loss &= \\sum_{i=1}^n(y_i - y_i^{pre})^2 \\\\\n",
    "     &= (y-Xw)^T(y-Xw) \\\\\n",
    "\\end{split}$\n",
    "\n",
    "$\\begin{split}\n",
    "\\frac{\\partial loss}{\\partial w} &= \\frac{\\partial\\left(\\left(y-Xw\\right)^T\\left(y-Xw\\right)\\right)}{\\partial w} \\\\\n",
    "&= \\frac{\\partial \\left(y^Ty-w^TX^Ty-y^YXw+w^TX^TXw\\right)}{\\partial w} \\\\\n",
    "&= 0 - X^Ty-X^Ty+2X^TXw \\\\\n",
    "&= 2X^T\\left(Xw-y\\right)\n",
    "\\end{split}$\n",
    "\n",
    "So \n",
    "\n",
    "$w^* = \\left(X^TX\\right)^{-1}X^Ty$"
   ]
  },
  {
   "cell_type": "code",
   "execution_count": 9,
   "metadata": {},
   "outputs": [],
   "source": [
    "w = np.linalg.inv(X_train.T.dot(X_train)).dot(X_train.T).dot(y_train.T)"
   ]
  },
  {
   "cell_type": "code",
   "execution_count": 10,
   "metadata": {},
   "outputs": [
    {
     "name": "stdout",
     "output_type": "stream",
     "text": [
      "591.0688430207564 23.653942814303953 17.173728167417575\n"
     ]
    }
   ],
   "source": [
    "y_tra = X_train.dot(w)\n",
    "y_val = X_validate.dot(w)\n",
    "\n",
    "loss_train = loss(y_tra, y_train)\n",
    "loss_val = loss(y_val, y_validate)\n",
    "\n",
    "print(Loss, loss_train, loss_val)"
   ]
  },
  {
   "cell_type": "markdown",
   "metadata": {},
   "source": [
    "## 2. Linear Regression and Stochastic Gradient Descent"
   ]
  },
  {
   "cell_type": "markdown",
   "metadata": {},
   "source": [
    "### 2.1 Initialize linear model  $y=w^Tx$"
   ]
  },
  {
   "cell_type": "code",
   "execution_count": 11,
   "metadata": {},
   "outputs": [],
   "source": [
    "w = np.random.normal(np.zeros(14))"
   ]
  },
  {
   "cell_type": "markdown",
   "metadata": {},
   "source": [
    "### 2.2 Select loss function\n",
    "Using:\n",
    "\n",
    "$J = \\frac{1}{2m}\\sum\\limits_{i=1}^n(y_i - y_i^{pre})^2$"
   ]
  },
  {
   "cell_type": "code",
   "execution_count": 12,
   "metadata": {},
   "outputs": [],
   "source": [
    "def J(y_predict, y_validate):\n",
    "    m = len(y_predict)\n",
    "    return loss(y_predict, y_validate) / 2 / m"
   ]
  },
  {
   "cell_type": "markdown",
   "metadata": {},
   "source": [
    "### 2.3 Get the derivation of loss function\n",
    "$\\begin{split}\n",
    "\\frac{\\partial}{\\partial w_i} J(w) &= \\frac{\\partial}{\\partial w_i} \\frac{1}{2m} \\sum\\limits^n_{k=1}(y_k-\\Sigma^m_{j=1}w_jx_j)^2 \\\\\n",
    "&= \\frac{1}{m}\\sum\\limits^n_{k=1}\\left(y_k-\\Sigma_{j=1}^nw_jx_{kj}\\right)x_{kj}\n",
    "\\end{split}$\n",
    "\n",
    "So\n",
    "\n",
    "$\\begin{split}\n",
    "w_i &= w_i - \\alpha\\frac{\\partial}{\\partial w_i} loss \\\\\n",
    "    &= w_i - \\frac{\\alpha}{m}\\sum\\limits^n_{k=1}\\left(y_k-\\Sigma_{j=1}^nw_jx_{kj}\\right)x_{ki}\n",
    "\\end{split}$"
   ]
  },
  {
   "cell_type": "code",
   "execution_count": 13,
   "metadata": {},
   "outputs": [],
   "source": [
    "def SGD(w, alpha, x, y, iters, x_val, y_val):\n",
    "    n = x.shape[0]\n",
    "    m = x.shape[1]\n",
    "    batch = []\n",
    "    loss_train = []\n",
    "    loss_val = []\n",
    "    for i in range(iters):\n",
    "        batch.append(np.random.randint(m))\n",
    "    for l in range(iters):\n",
    "        tmp = np.zeros_like(w)\n",
    "        k = batch[l]\n",
    "        for i in range(m):\n",
    "            tmp[i] = -(y[k] - w.dot(x[k][:])) * x[k][i]\n",
    "        for i in range(m):\n",
    "            w[i] = w[i] - (alpha / m) * tmp[i]\n",
    "        loss_train.append(loss(x.dot(w), y_train))\n",
    "        loss_val.append(loss(x_val.dot(w), y_val))\n",
    "    return w, loss_train, loss_val"
   ]
  },
  {
   "cell_type": "markdown",
   "metadata": {},
   "source": [
    "### 2.4 Start training w"
   ]
  },
  {
   "cell_type": "code",
   "execution_count": 14,
   "metadata": {},
   "outputs": [],
   "source": [
    "w, loss_train, loss_val = SGD(w, 1e-2, X_train, y_train, 1000, X_validate, y_validate)"
   ]
  },
  {
   "cell_type": "code",
   "execution_count": 15,
   "metadata": {},
   "outputs": [
    {
     "data": {
      "text/plain": [
       "array([ 5.98609485, -3.73340252, -4.20099611, -1.45645436, -4.2915328 ,\n",
       "       -0.55256022,  1.76717383,  1.17415714, -3.02629615, -0.76756771,\n",
       "        0.13181346, -0.16577666,  4.42656079, -4.1035296 ])"
      ]
     },
     "execution_count": 15,
     "metadata": {},
     "output_type": "execute_result"
    }
   ],
   "source": [
    "w"
   ]
  },
  {
   "cell_type": "markdown",
   "metadata": {},
   "source": [
    "### 2.5 Plot loss_train and loss_val"
   ]
  },
  {
   "cell_type": "code",
   "execution_count": 16,
   "metadata": {},
   "outputs": [
    {
     "data": {
      "image/png": "[encoded data removed]",
      "text/plain": [
       "<Figure size 432x288 with 1 Axes>"
      ]
     },
     "metadata": {
      "needs_background": "light"
     },
     "output_type": "display_data"
    }
   ],
   "source": [
    "plt.plot(loss_train, label = 'loss_train')\n",
    "plt.plot(loss_val, label = 'loss_val')\n",
    "plt.legend(loc='upper right')\n",
    "plt.savefig('./tex/lab1/SGD.pdf')"
   ]
  }
 ],
 "metadata": {
  "kernelspec": {
   "display_name": "Python 3",
   "language": "python",
   "name": "python3"
  },
  "language_info": {
   "codemirror_mode": {
    "name": "ipython",
    "version": 3
   },
   "file_extension": ".py",
   "mimetype": "text/x-python",
   "name": "python",
   "nbconvert_exporter": "python",
   "pygments_lexer": "ipython3",
   "version": "3.6.5"
  }
 },
 "nbformat": 4,
 "nbformat_minor": 2
}
